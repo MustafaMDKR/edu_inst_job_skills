{
 "cells": [
  {
   "cell_type": "code",
   "execution_count": 1,
   "id": "6f024629",
   "metadata": {},
   "outputs": [],
   "source": [
    "# Constants\n",
    "DATA_PATH   = \"../data/raw/survey_results_public.csv\"\n",
    "EXPORT_PATH = \"../data/processed/1_preprocessed_df.pkl\"\n",
    "\n",
    "REPLACE_DICT = {\n",
    "    'YearsCodePro': {'Less than 1 year': 0, 'More than 50 years': 51}, \n",
    "    'YearsCode':    {'Less than 1 year': 0, 'More than 50 years': 51}}"
   ]
  },
  {
   "cell_type": "code",
   "execution_count": 2,
   "id": "c387cf70",
   "metadata": {},
   "outputs": [],
   "source": [
    "# Load packages\n",
    "import pandas as pd \n",
    "import numpy as np\n",
    "import logging\n",
    "import pickle"
   ]
  },
  {
   "cell_type": "markdown",
   "id": "f3c4007e",
   "metadata": {},
   "source": [
    "# Functions"
   ]
  },
  {
   "cell_type": "code",
   "execution_count": 3,
   "id": "09570ea1",
   "metadata": {},
   "outputs": [],
   "source": [
    "def split_answers(data_series, delimiter=\";\"):\n",
    "    \"\"\" \n",
    "    Split multiple answers in a single string \n",
    "    to a list of single strings each represnting a single answers \n",
    "\n",
    "    Parameters:\n",
    "    * data_series (pd.Series): String series with answers \n",
    "    * delimiter (string): Another decimal integer \n",
    "                          Defaults to \";\"\n",
    "\n",
    "    Returns: (pd.Series): If column contains \n",
    "    \"\"\"\n",
    "    \n",
    "    # Sub functions \n",
    "    def is_splittable(pd_series, delimiter):\n",
    "        \"\"\" Check if results multiple should be splitted - Returns boolean \"\"\"    \n",
    "        return pd_series.str.contains(delimiter)\n",
    "    \n",
    "    def split_answer(pd_series, delimiter): \n",
    "        \"\"\"Function to split single answer\"\"\"\n",
    "        return pd_series.str.split(delimiter)\n",
    "    \n",
    "    # --------------------\n",
    "    \n",
    "    # Check if multiple answers exist - if none: return original \n",
    "    splittable_values = is_splittable(data_series, delimiter)\n",
    "    if not splittable_values.any():\n",
    "        return data_series\n",
    "    \n",
    "    # Else, split each value to a list \n",
    "    modified_series = split_answer(data_series, delimiter)    \n",
    "    \n",
    "    # Replace NAs with empty lists \n",
    "    mask_null = modified_series.isnull()\n",
    "    modified_series.loc[mask_null] = modified_series.loc[mask_null].apply(lambda x: [])\n",
    "    \n",
    "    return modified_series"
   ]
  },
  {
   "cell_type": "markdown",
   "id": "9c465abd",
   "metadata": {},
   "source": [
    "# Processing"
   ]
  },
  {
   "cell_type": "markdown",
   "id": "729bdcc2",
   "metadata": {},
   "source": [
    "## Preprocess Data"
   ]
  },
  {
   "cell_type": "code",
   "execution_count": 4,
   "id": "444618f1",
   "metadata": {},
   "outputs": [],
   "source": [
    "raw_df = pd.read_csv(DATA_PATH)\n",
    "df = raw_df.copy()"
   ]
  },
  {
   "cell_type": "markdown",
   "id": "f3474365",
   "metadata": {},
   "source": [
    "### 1. Replace Values and parse"
   ]
  },
  {
   "cell_type": "code",
   "execution_count": 5,
   "id": "34a5ce8c",
   "metadata": {},
   "outputs": [],
   "source": [
    "for col, replacement in REPLACE_DICT.items():\n",
    "    df[col] = df[col].replace(replacement).astype(np.float32)"
   ]
  },
  {
   "cell_type": "markdown",
   "id": "07733331",
   "metadata": {},
   "source": [
    "### 2. Split multiple answers"
   ]
  },
  {
   "cell_type": "code",
   "execution_count": 6,
   "id": "ffeaadeb",
   "metadata": {},
   "outputs": [],
   "source": [
    "object_cols = df.select_dtypes(include='object').columns.tolist()\n",
    "for col in object_cols:\n",
    "    df[col] = split_answers(df[col])"
   ]
  },
  {
   "cell_type": "markdown",
   "id": "595f9e75",
   "metadata": {},
   "source": [
    "# Visually verify results"
   ]
  },
  {
   "cell_type": "code",
   "execution_count": 7,
   "id": "cf9faf07",
   "metadata": {},
   "outputs": [
    {
     "name": "stdout",
     "output_type": "stream",
     "text": [
      "Dart;Python\n",
      "['Dart', 'Python']\n"
     ]
    }
   ],
   "source": [
    "i = df.sample(1).index[0]\n",
    "print(raw_df['LanguageHaveWorkedWith'].iloc[i])\n",
    "print(df['LanguageHaveWorkedWith'].iloc[i])"
   ]
  },
  {
   "cell_type": "code",
   "execution_count": 8,
   "id": "e338497d",
   "metadata": {},
   "outputs": [
    {
     "name": "stdout",
     "output_type": "stream",
     "text": [
      "Developer, mobile;Developer, front-end;Developer, desktop or enterprise applications;Developer, full-stack;Developer, back-end;Developer, game or graphics;Designer\n",
      "['Developer, mobile', 'Developer, front-end', 'Developer, desktop or enterprise applications', 'Developer, full-stack', 'Developer, back-end', 'Developer, game or graphics', 'Designer']\n"
     ]
    }
   ],
   "source": [
    "i = df.sample(1).index[0]\n",
    "print(raw_df['DevType'].iloc[i])\n",
    "print(df['DevType'].iloc[i])"
   ]
  },
  {
   "cell_type": "code",
   "execution_count": 9,
   "id": "059e1fe6",
   "metadata": {},
   "outputs": [
    {
     "name": "stdout",
     "output_type": "stream",
     "text": [
      "nan\n",
      "nan\n"
     ]
    }
   ],
   "source": [
    "i = df.sample(1).index[0]\n",
    "print(raw_df['YearsCodePro'].iloc[i])\n",
    "print(df['YearsCodePro'].iloc[i])"
   ]
  },
  {
   "cell_type": "markdown",
   "id": "b49593c0",
   "metadata": {},
   "source": [
    "# Export Data"
   ]
  },
  {
   "cell_type": "code",
   "execution_count": 10,
   "id": "147ac884",
   "metadata": {},
   "outputs": [],
   "source": [
    "df.to_pickle(EXPORT_PATH)"
   ]
  },
  {
   "cell_type": "code",
   "execution_count": null,
   "id": "bedd535c",
   "metadata": {},
   "outputs": [],
   "source": []
  }
 ],
 "metadata": {
  "kernelspec": {
   "display_name": "Python 3 (ipykernel)",
   "language": "python",
   "name": "python3"
  },
  "language_info": {
   "codemirror_mode": {
    "name": "ipython",
    "version": 3
   },
   "file_extension": ".py",
   "mimetype": "text/x-python",
   "name": "python",
   "nbconvert_exporter": "python",
   "pygments_lexer": "ipython3",
   "version": "3.9.12"
  }
 },
 "nbformat": 4,
 "nbformat_minor": 5
}
